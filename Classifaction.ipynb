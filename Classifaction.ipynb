{
  "nbformat": 4,
  "nbformat_minor": 0,
  "metadata": {
    "colab": {
      "name": "Copy of Untitled7.ipynb",
      "provenance": [],
      "authorship_tag": "ABX9TyNeDJnfUtvpbIL93nDwFGHe",
      "include_colab_link": true
    },
    "kernelspec": {
      "name": "python3",
      "display_name": "Python 3"
    },
    "language_info": {
      "name": "python"
    }
  },
  "cells": [
    {
      "cell_type": "markdown",
      "metadata": {
        "id": "view-in-github",
        "colab_type": "text"
      },
      "source": [
        "<a href=\"https://colab.research.google.com/github/Aliht72/Data-mining-project/blob/main/Classifaction.ipynb\" target=\"_parent\"><img src=\"https://colab.research.google.com/assets/colab-badge.svg\" alt=\"Open In Colab\"/></a>"
      ]
    },
    {
      "cell_type": "code",
      "execution_count": null,
      "metadata": {
        "colab": {
          "base_uri": "https://localhost:8080/"
        },
        "id": "eNon_c45s3cB",
        "outputId": "d2d9033d-428e-4cd8-bc52-58073fe86f69"
      },
      "outputs": [
        {
          "output_type": "stream",
          "name": "stdout",
          "text": [
            "Reading package lists... Done\n",
            "Building dependency tree       \n",
            "Reading state information... Done\n",
            "The following packages were automatically installed and are no longer required:\n",
            "  libnvidia-common-460 nsight-compute-2020.2.0\n",
            "Use 'apt autoremove' to remove them.\n",
            "The following additional packages will be installed:\n",
            "  openjdk-8-jre-headless\n",
            "Suggested packages:\n",
            "  openjdk-8-demo openjdk-8-source libnss-mdns fonts-dejavu-extra\n",
            "  fonts-ipafont-gothic fonts-ipafont-mincho fonts-wqy-microhei\n",
            "  fonts-wqy-zenhei fonts-indic\n",
            "The following NEW packages will be installed:\n",
            "  openjdk-8-jdk-headless openjdk-8-jre-headless\n",
            "0 upgraded, 2 newly installed, 0 to remove and 42 not upgraded.\n",
            "Need to get 36.5 MB of archives.\n",
            "After this operation, 143 MB of additional disk space will be used.\n",
            "Get:1 http://archive.ubuntu.com/ubuntu bionic-updates/universe amd64 openjdk-8-jre-headless amd64 8u312-b07-0ubuntu1~18.04 [28.2 MB]\n",
            "Get:2 http://archive.ubuntu.com/ubuntu bionic-updates/universe amd64 openjdk-8-jdk-headless amd64 8u312-b07-0ubuntu1~18.04 [8,298 kB]\n",
            "Fetched 36.5 MB in 2s (18.4 MB/s)\n",
            "Selecting previously unselected package openjdk-8-jre-headless:amd64.\n",
            "(Reading database ... 155203 files and directories currently installed.)\n",
            "Preparing to unpack .../openjdk-8-jre-headless_8u312-b07-0ubuntu1~18.04_amd64.deb ...\n",
            "Unpacking openjdk-8-jre-headless:amd64 (8u312-b07-0ubuntu1~18.04) ...\n",
            "Selecting previously unselected package openjdk-8-jdk-headless:amd64.\n",
            "Preparing to unpack .../openjdk-8-jdk-headless_8u312-b07-0ubuntu1~18.04_amd64.deb ...\n",
            "Unpacking openjdk-8-jdk-headless:amd64 (8u312-b07-0ubuntu1~18.04) ...\n",
            "Setting up openjdk-8-jre-headless:amd64 (8u312-b07-0ubuntu1~18.04) ...\n",
            "update-alternatives: using /usr/lib/jvm/java-8-openjdk-amd64/jre/bin/orbd to provide /usr/bin/orbd (orbd) in auto mode\n",
            "update-alternatives: using /usr/lib/jvm/java-8-openjdk-amd64/jre/bin/servertool to provide /usr/bin/servertool (servertool) in auto mode\n",
            "update-alternatives: using /usr/lib/jvm/java-8-openjdk-amd64/jre/bin/tnameserv to provide /usr/bin/tnameserv (tnameserv) in auto mode\n",
            "Setting up openjdk-8-jdk-headless:amd64 (8u312-b07-0ubuntu1~18.04) ...\n",
            "update-alternatives: using /usr/lib/jvm/java-8-openjdk-amd64/bin/idlj to provide /usr/bin/idlj (idlj) in auto mode\n",
            "update-alternatives: using /usr/lib/jvm/java-8-openjdk-amd64/bin/wsimport to provide /usr/bin/wsimport (wsimport) in auto mode\n",
            "update-alternatives: using /usr/lib/jvm/java-8-openjdk-amd64/bin/jsadebugd to provide /usr/bin/jsadebugd (jsadebugd) in auto mode\n",
            "update-alternatives: using /usr/lib/jvm/java-8-openjdk-amd64/bin/native2ascii to provide /usr/bin/native2ascii (native2ascii) in auto mode\n",
            "update-alternatives: using /usr/lib/jvm/java-8-openjdk-amd64/bin/javah to provide /usr/bin/javah (javah) in auto mode\n",
            "update-alternatives: using /usr/lib/jvm/java-8-openjdk-amd64/bin/hsdb to provide /usr/bin/hsdb (hsdb) in auto mode\n",
            "update-alternatives: using /usr/lib/jvm/java-8-openjdk-amd64/bin/clhsdb to provide /usr/bin/clhsdb (clhsdb) in auto mode\n",
            "update-alternatives: using /usr/lib/jvm/java-8-openjdk-amd64/bin/xjc to provide /usr/bin/xjc (xjc) in auto mode\n",
            "update-alternatives: using /usr/lib/jvm/java-8-openjdk-amd64/bin/schemagen to provide /usr/bin/schemagen (schemagen) in auto mode\n",
            "update-alternatives: using /usr/lib/jvm/java-8-openjdk-amd64/bin/extcheck to provide /usr/bin/extcheck (extcheck) in auto mode\n",
            "update-alternatives: using /usr/lib/jvm/java-8-openjdk-amd64/bin/jhat to provide /usr/bin/jhat (jhat) in auto mode\n",
            "update-alternatives: using /usr/lib/jvm/java-8-openjdk-amd64/bin/wsgen to provide /usr/bin/wsgen (wsgen) in auto mode\n"
          ]
        }
      ],
      "source": [
        "!apt-get install openjdk-8-jdk-headless"
      ]
    },
    {
      "cell_type": "code",
      "source": [
        "!wget https://archive.apache.org/dist/spark/spark-3.2.1/spark-3.2.1-bin-hadoop2.7.tgz"
      ],
      "metadata": {
        "colab": {
          "base_uri": "https://localhost:8080/"
        },
        "id": "rx9cHaCztHdX",
        "outputId": "550cf15f-1ce7-43dc-e389-a73b2d573773"
      },
      "execution_count": null,
      "outputs": [
        {
          "output_type": "stream",
          "name": "stdout",
          "text": [
            "--2022-05-10 04:09:33--  https://archive.apache.org/dist/spark/spark-3.2.1/spark-3.2.1-bin-hadoop2.7.tgz\n",
            "Resolving archive.apache.org (archive.apache.org)... 138.201.131.134, 2a01:4f8:172:2ec5::2\n",
            "Connecting to archive.apache.org (archive.apache.org)|138.201.131.134|:443... connected.\n",
            "HTTP request sent, awaiting response... 200 OK\n",
            "Length: 272637746 (260M) [application/x-gzip]\n",
            "Saving to: ‘spark-3.2.1-bin-hadoop2.7.tgz’\n",
            "\n",
            "spark-3.2.1-bin-had 100%[===================>] 260.01M  72.8MB/s    in 4.5s    \n",
            "\n",
            "2022-05-10 04:09:38 (57.8 MB/s) - ‘spark-3.2.1-bin-hadoop2.7.tgz’ saved [272637746/272637746]\n",
            "\n"
          ]
        }
      ]
    },
    {
      "cell_type": "code",
      "source": [
        "!tar xf spark-3.2.1-bin-hadoop2.7.tgz\n"
      ],
      "metadata": {
        "id": "b7eaB5RytJml"
      },
      "execution_count": null,
      "outputs": []
    },
    {
      "cell_type": "code",
      "source": [
        "!pip install -q findspark\n"
      ],
      "metadata": {
        "id": "YNBj_d-sxmLV"
      },
      "execution_count": null,
      "outputs": []
    },
    {
      "cell_type": "code",
      "source": [
        "import os\n",
        "os.environ[\"JAVA_HOME\"] = \"/usr/lib/jvm/java-8-openjdk-amd64\"\n",
        "os.environ[\"SPARK_HOME\"] = \"/content/spark-3.2.1-bin-hadoop2.7\""
      ],
      "metadata": {
        "id": "GRmh0Ifwxze5"
      },
      "execution_count": null,
      "outputs": []
    },
    {
      "cell_type": "code",
      "source": [
        "import findspark\n",
        "findspark.init()\n",
        "findspark.find()"
      ],
      "metadata": {
        "colab": {
          "base_uri": "https://localhost:8080/",
          "height": 35
        },
        "id": "AsoL7LE0xzmL",
        "outputId": "f7d93af6-4384-4513-d1d9-260b9a0a0944"
      },
      "execution_count": null,
      "outputs": [
        {
          "output_type": "execute_result",
          "data": {
            "text/plain": [
              "'/content/spark-3.2.1-bin-hadoop2.7'"
            ],
            "application/vnd.google.colaboratory.intrinsic+json": {
              "type": "string"
            }
          },
          "metadata": {},
          "execution_count": 9
        }
      ]
    },
    {
      "cell_type": "code",
      "source": [
        "import pyspark\n",
        "import numpy as np\n",
        "import pandas as pd"
      ],
      "metadata": {
        "id": "yLxFub16x_R3"
      },
      "execution_count": null,
      "outputs": []
    },
    {
      "cell_type": "code",
      "source": [
        "from pyspark.sql import SparkSession\n",
        "\n",
        "spark = SparkSession.builder.master('local[*]').appName('flamingo').getOrCreate()\n",
        "\n",
        "df = spark.read.csv('./combined-data.csv', sep=',', header=True, inferSchema=True, nullValue='NA')\n"
      ],
      "metadata": {
        "id": "vFgiYpjryClm"
      },
      "execution_count": null,
      "outputs": []
    },
    {
      "cell_type": "code",
      "source": [
        "removeAllNA = df.na.drop()"
      ],
      "metadata": {
        "id": "sxnfSbsKKT-6"
      },
      "execution_count": null,
      "outputs": []
    },
    {
      "cell_type": "code",
      "source": [
        "from pyspark.sql import functions as F\n",
        "categories = removeAllNA.select(\"platformType\").distinct().rdd.flatMap(lambda x: x).collect()\n",
        "\n",
        "exprs = [F.when(F.col(\"platformType\") == category, 1).otherwise(0).alias(category)\n",
        "         for category in categories]\n",
        "\n",
        "AfterDummy = removeAllNA.select(\"count_buyId\", \"avg_price\" , \"count_hits\" , \"count_gameclicks\" , \"teamLevel\" ,  *exprs)\n"
      ],
      "metadata": {
        "id": "So9mH4iaKqua"
      },
      "execution_count": null,
      "outputs": []
    },
    {
      "cell_type": "code",
      "source": [
        "AfterDummy.show(5)"
      ],
      "metadata": {
        "colab": {
          "base_uri": "https://localhost:8080/"
        },
        "id": "yivmnEUDLc9n",
        "outputId": "7c468ee3-47ff-46a3-fccd-c98adb0a9a3b"
      },
      "execution_count": null,
      "outputs": [
        {
          "output_type": "stream",
          "name": "stdout",
          "text": [
            "+-----------+---------+----------+----------------+---------+------+-------+-----+---+-------+\n",
            "|count_buyId|avg_price|count_hits|count_gameclicks|teamLevel|iphone|android|linux|mac|windows|\n",
            "+-----------+---------+----------+----------------+---------+------+-------+-----+---+-------+\n",
            "|          1|      1.0|         0|              39|        1|     0|      1|    0|  0|      0|\n",
            "|          1|     10.0|         9|             129|        1|     1|      0|    0|  0|      0|\n",
            "|          1|      5.0|        14|             102|        1|     0|      1|    0|  0|      0|\n",
            "|          1|      3.0|         4|              39|        1|     0|      1|    0|  0|      0|\n",
            "|          1|      3.0|        10|              90|        1|     0|      1|    0|  0|      0|\n",
            "+-----------+---------+----------+----------------+---------+------+-------+-----+---+-------+\n",
            "only showing top 5 rows\n",
            "\n"
          ]
        }
      ]
    },
    {
      "cell_type": "code",
      "source": [
        "from pyspark.sql.functions import when, col\n",
        "\n",
        "AfterDummy = AfterDummy.withColumn('Role', when(col('avg_price') > 5 , 'Main Role').otherwise('Others'))\n",
        "AfterDummy.show()"
      ],
      "metadata": {
        "colab": {
          "base_uri": "https://localhost:8080/"
        },
        "id": "I1VEkPPQLsPv",
        "outputId": "586d66d0-87f4-49f0-ab14-df7deee300f3"
      },
      "execution_count": null,
      "outputs": [
        {
          "output_type": "stream",
          "name": "stdout",
          "text": [
            "+-----------+---------+----------+----------------+---------+------+-------+-----+---+-------+---------+\n",
            "|count_buyId|avg_price|count_hits|count_gameclicks|teamLevel|iphone|android|linux|mac|windows|     Role|\n",
            "+-----------+---------+----------+----------------+---------+------+-------+-----+---+-------+---------+\n",
            "|          1|      1.0|         0|              39|        1|     0|      1|    0|  0|      0|   Others|\n",
            "|          1|     10.0|         9|             129|        1|     1|      0|    0|  0|      0|Main Role|\n",
            "|          1|      5.0|        14|             102|        1|     0|      1|    0|  0|      0|   Others|\n",
            "|          1|      3.0|         4|              39|        1|     0|      1|    0|  0|      0|   Others|\n",
            "|          1|      3.0|        10|              90|        1|     0|      1|    0|  0|      0|   Others|\n",
            "|          1|     20.0|         8|              51|        1|     1|      0|    0|  0|      0|Main Role|\n",
            "|          2|      2.5|         6|              51|        1|     0|      1|    0|  0|      0|   Others|\n",
            "|          2|      2.0|         5|              47|        1|     0|      1|    0|  0|      0|   Others|\n",
            "|          1|      1.0|         7|              46|        1|     0|      1|    0|  0|      0|   Others|\n",
            "|          1|     20.0|         6|              41|        1|     1|      0|    0|  0|      0|Main Role|\n",
            "|          1|      3.0|         7|              47|        1|     0|      1|    0|  0|      0|   Others|\n",
            "|          1|     20.0|         7|              76|        1|     1|      0|    0|  0|      0|Main Role|\n",
            "|          1|      3.0|         2|              52|        1|     0|      1|    0|  0|      0|   Others|\n",
            "|          1|      3.0|         9|              62|        1|     0|      1|    0|  0|      0|   Others|\n",
            "|          2|      7.5|        25|             177|        1|     1|      0|    0|  0|      0|Main Role|\n",
            "|          1|     10.0|         5|              54|        1|     1|      0|    0|  0|      0|Main Role|\n",
            "|          2|      4.0|         4|              27|        1|     0|      1|    0|  0|      0|   Others|\n",
            "|          1|     20.0|         2|              37|        1|     1|      0|    0|  0|      0|Main Role|\n",
            "|          1|      1.0|         5|              67|        1|     0|      1|    0|  0|      0|   Others|\n",
            "|          2|     11.5|         5|              37|        1|     1|      0|    0|  0|      0|Main Role|\n",
            "+-----------+---------+----------+----------------+---------+------+-------+-----+---+-------+---------+\n",
            "only showing top 20 rows\n",
            "\n"
          ]
        }
      ]
    },
    {
      "cell_type": "code",
      "source": [
        "Role_binary= AfterDummy.withColumn('label', (AfterDummy.Role == \"Others\").cast('integer'))\n"
      ],
      "metadata": {
        "id": "4Img04t9UcBW"
      },
      "execution_count": null,
      "outputs": []
    },
    {
      "cell_type": "code",
      "source": [
        "Role_binary.drop('avg_price')"
      ],
      "metadata": {
        "colab": {
          "base_uri": "https://localhost:8080/"
        },
        "id": "ZakILZc5VEjp",
        "outputId": "12b56fca-d531-40a4-e68f-8abcbff41004"
      },
      "execution_count": null,
      "outputs": [
        {
          "output_type": "execute_result",
          "data": {
            "text/plain": [
              "DataFrame[count_buyId: int, count_hits: int, count_gameclicks: int, teamLevel: int, iphone: int, android: int, linux: int, mac: int, windows: int, Role: string, label: int]"
            ]
          },
          "metadata": {},
          "execution_count": 103
        }
      ]
    },
    {
      "cell_type": "code",
      "source": [
        "from pyspark.ml.feature import VectorAssembler\n",
        "\n",
        "# Create an assembler object\n",
        "assembler = VectorAssembler(inputCols=[\n",
        "    'count_buyId', 'count_hits',\n",
        "    'count_gameclicks', \n",
        "    'teamLevel',\n",
        "    'iphone', 'android', 'linux' , 'mac' , 'windows'\n",
        "], outputCol='features') \n",
        "\n",
        "# Consolidate predictor columns\n",
        "flamingo_assembled = assembler.transform(Role_binary)\n",
        "\n",
        "# Check the resulting column\n",
        "flamingo_assembled.select('features', 'label').show(5, truncate=False)"
      ],
      "metadata": {
        "colab": {
          "base_uri": "https://localhost:8080/"
        },
        "id": "GatisYQjNLun",
        "outputId": "04978fe6-cdb5-4c88-c2c1-ed8094c6f19b"
      },
      "execution_count": null,
      "outputs": [
        {
          "output_type": "stream",
          "name": "stdout",
          "text": [
            "+----------------------------------------+-----+\n",
            "|features                                |label|\n",
            "+----------------------------------------+-----+\n",
            "|(9,[0,2,3,5],[1.0,39.0,1.0,1.0])        |1    |\n",
            "|[1.0,9.0,129.0,1.0,1.0,0.0,0.0,0.0,0.0] |0    |\n",
            "|[1.0,14.0,102.0,1.0,0.0,1.0,0.0,0.0,0.0]|1    |\n",
            "|[1.0,4.0,39.0,1.0,0.0,1.0,0.0,0.0,0.0]  |1    |\n",
            "|[1.0,10.0,90.0,1.0,0.0,1.0,0.0,0.0,0.0] |1    |\n",
            "+----------------------------------------+-----+\n",
            "only showing top 5 rows\n",
            "\n"
          ]
        }
      ]
    },
    {
      "cell_type": "code",
      "source": [
        "# Split into training and test sets in a 80:20 ratio\n",
        "flamingo_train, flamingo_test= flamingo_assembled.randomSplit([0.8, 0.2], seed=17)\n",
        "\n",
        "# Check that training set has around 80% of records\n",
        "training_ratio = flamingo_train.count() / flamingo_assembled.count()\n",
        "print(training_ratio)"
      ],
      "metadata": {
        "colab": {
          "base_uri": "https://localhost:8080/"
        },
        "id": "EL1K6og0Ngnn",
        "outputId": "43be52d6-0531-4745-f659-c2984060316d"
      },
      "execution_count": null,
      "outputs": [
        {
          "output_type": "stream",
          "name": "stdout",
          "text": [
            "0.8015591778880227\n"
          ]
        }
      ]
    },
    {
      "cell_type": "code",
      "source": [
        "from pyspark.ml.classification import DecisionTreeClassifier\n",
        "\n",
        "# Create a classifier object and fit to the training data\n",
        "tree = DecisionTreeClassifier()\n",
        "tree_model = tree.fit(flamingo_test)\n",
        "\n",
        "# Create predictions for the testing data and take a look at the predictions\n",
        "prediction = tree_model.transform(flamingo_test)\n",
        "prediction.select('label', 'prediction', 'probability').show(5, False)\n"
      ],
      "metadata": {
        "colab": {
          "base_uri": "https://localhost:8080/"
        },
        "id": "eD95jynePoil",
        "outputId": "d01e2033-0c29-450c-d419-c442c421d862"
      },
      "execution_count": null,
      "outputs": [
        {
          "output_type": "stream",
          "name": "stdout",
          "text": [
            "+-----+----------+-----------------------------------------+\n",
            "|label|prediction|probability                              |\n",
            "+-----+----------+-----------------------------------------+\n",
            "|1    |1.0       |[0.014285714285714285,0.9857142857142858]|\n",
            "|1    |1.0       |[0.014285714285714285,0.9857142857142858]|\n",
            "|1    |1.0       |[0.014285714285714285,0.9857142857142858]|\n",
            "|1    |1.0       |[0.014285714285714285,0.9857142857142858]|\n",
            "|1    |1.0       |[0.014285714285714285,0.9857142857142858]|\n",
            "+-----+----------+-----------------------------------------+\n",
            "only showing top 5 rows\n",
            "\n"
          ]
        }
      ]
    },
    {
      "cell_type": "code",
      "source": [
        "# Create a confusion matrix\n",
        "prediction.groupBy('label', 'prediction').count().show()\n",
        "\n",
        "# Calculate the elements of the confusion matrix\n",
        "TN = prediction.filter('prediction = 0 AND label = prediction').count()\n",
        "TP = prediction.filter('prediction = 1 AND label = prediction').count()\n",
        "FN = prediction.filter('prediction = 0 AND label = 1').count()\n",
        "FP = prediction.filter('prediction = 1 AND label = 0').count()\n",
        "\n",
        "# Accuracy measures the proportion of correct predictions\n",
        "accuracy = (TN + TP) / (TN + TP + FN + FP)\n",
        "print(accuracy)"
      ],
      "metadata": {
        "colab": {
          "base_uri": "https://localhost:8080/"
        },
        "id": "puizJJzZR1ih",
        "outputId": "44c6109f-1c45-4693-d111-b4d3f0c23ccd"
      },
      "execution_count": null,
      "outputs": [
        {
          "output_type": "stream",
          "name": "stdout",
          "text": [
            "+-----+----------+-----+\n",
            "|label|prediction|count|\n",
            "+-----+----------+-----+\n",
            "|    1|       0.0|    7|\n",
            "|    0|       0.0|   84|\n",
            "|    1|       1.0|  167|\n",
            "|    0|       1.0|   22|\n",
            "+-----+----------+-----+\n",
            "\n",
            "0.8964285714285715\n"
          ]
        }
      ]
    }
  ]
}